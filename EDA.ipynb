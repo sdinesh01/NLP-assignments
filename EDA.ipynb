{
  "cells": [
    {
      "cell_type": "markdown",
      "metadata": {
        "id": "view-in-github",
        "colab_type": "text"
      },
      "source": [
        "<a href=\"https://colab.research.google.com/github/sdinesh01/NLP-assignments/blob/main/EDA.ipynb\" target=\"_parent\"><img src=\"https://colab.research.google.com/assets/colab-badge.svg\" alt=\"Open In Colab\"/></a>"
      ]
    },
    {
      "cell_type": "markdown",
      "metadata": {
        "id": "u4TAHCwPF7cB"
      },
      "source": [
        "# Exploratory Data Analysis\n",
        "\n",
        "Perform an exploratory data analysis of a corpus of documents. The corpus consists of 11,587 documents, each of which is a news article. \n",
        "\n",
        "Analyze a corpus of news documents to answer the following:\n",
        "\n",
        "0. What is the nature of our data?\n",
        "    - 0a. What is the size of the corpus?\n",
        "    - 0b. Are there any duplicates in the corpus?\n",
        "    - 0c. Are there any missing values in the corpus?\n",
        "    - 0d. How many unique documents are there in the corpus?\n",
        "1. What is the distribution of `token`s per document?\n",
        "    - 1a. What is the longest article?\n",
        "    - 1b. What is the shortest article?\n",
        "    - 1c. What is the 95th percentile of article lengths?\n",
        "2. How many different sources are there in the corpus?\n",
        "    - 2a. How many different sources are there in the dataset?\n",
        "    - 2b. What is the distribution of articles per source?"
      ]
    },
    {
      "cell_type": "code",
      "execution_count": 3,
      "metadata": {
        "id": "7tMywNs_F7cG"
      },
      "outputs": [],
      "source": [
        "## Imports\n",
        "import pandas as pd\n",
        "import numpy as np\n",
        "import matplotlib.pyplot as plt\n",
        "import seaborn as sns\n",
        "from tqdm.auto import tqdm\n",
        "\n",
        "tqdm.pandas()"
      ]
    },
    {
      "cell_type": "markdown",
      "metadata": {
        "id": "rCw1Lg3BF7cJ"
      },
      "source": [
        "## News Corpus\n",
        "\n",
        "You are provided the following news corpus: `data/news_corpus.csv`. The corpus contains the following columns:\n",
        "\n",
        "- `index` int: The unique identifier of the document.\n",
        "- `source` str: The source of the document\n",
        "- `title` str: The title of the document\n",
        "- `text` str: The content of the article\n",
        "\n",
        "The data used in this notebook comes from the [`StoryGraph`](https://archive.org/details/storygraph?tab=about) project, created and maintained by Prof. Alexander Nwala.\n",
        "\n",
        "```BibTeX\n",
        "@MISC {nwala-cj20,\n",
        "    author = {Alexander Nwala and Michele C. Weigle and Michael L. Nelson},\n",
        "     title = {365 Dots in 2019: Quantifying Attention of News Sources},\n",
        "     year = {2020},\n",
        "      month = may,\n",
        "     howpublished = {Poster/demo accepted at the Computation + Journalism Symposium (symposium cancelled due to COVID-19)},\n",
        "     arxiv = {https://arxiv.org/abs/2003.09989},\n",
        "     pubdate = {202005}\n",
        "}\n",
        "```"
      ]
    },
    {
      "cell_type": "markdown",
      "metadata": {
        "id": "ZUSfW-pjF7cK"
      },
      "source": [
        "## Load Data into Pandas dataframe"
      ]
    },
    {
      "cell_type": "code",
      "source": [
        "url = 'https://raw.githubusercontent.com/JamesMTucker/DATA_340_NLP/master/assignment_notebooks/data/news-2023-02-01.csv'"
      ],
      "metadata": {
        "id": "k2zLt07OHYMw"
      },
      "execution_count": 1,
      "outputs": []
    },
    {
      "cell_type": "code",
      "execution_count": 4,
      "metadata": {
        "id": "fchHzmPdF7cL",
        "colab": {
          "base_uri": "https://localhost:8080/",
          "height": 363
        },
        "outputId": "bcf49483-76b9-49ca-c9f4-5623fab931e1"
      },
      "outputs": [
        {
          "output_type": "execute_result",
          "data": {
            "text/plain": [
              "         source                                              title  \\\n",
              "0  politicususa  Prosecutors Pay Attention: Stormy Daniels Than...   \n",
              "1  politicususa  Investigators Push For Access To Trump Staff C...   \n",
              "2  politicususa  The End Is Near For George Santos As He Steps ...   \n",
              "3  politicususa  Rachel Maddow Cuts Trump To The Bone With Stor...   \n",
              "4           vox  Alec Baldwin has been formally charged with in...   \n",
              "5           vox  What layoffs at Google and other tech companie...   \n",
              "6           vox  Did Republican Representative-elect George San...   \n",
              "7           vox  Sundance 2023: 17 movies to watch out for this...   \n",
              "8      huffpost  Watch Trump Give Deposition In New York Civil ...   \n",
              "9      huffpost  Ron DeSantis Plans To Defund Diversity Program...   \n",
              "\n",
              "                                                text  \n",
              "0  Manhattan prosecutors are likely to notice tha...  \n",
              "1  Print\\nInvestigators looking into Donald Trump...  \n",
              "2  The AP reported:\\nRepublican Rep. George Santo...  \n",
              "3  Rachel Maddow showed how Trump committed a cri...  \n",
              "4  Candles are placed in front of a photo of cine...  \n",
              "5  The path forward for tech workers won’t be eas...  \n",
              "6  New York Representative-elect George Santos sp...  \n",
              "7  Chiwetel Ejiofor and Emilia Clarke in The Pod ...  \n",
              "8  Watch Trump Give Deposition In New York Civil ...  \n",
              "9  Politics Florida Ron DeSantis higher education...  "
            ],
            "text/html": [
              "\n",
              "  <div id=\"df-a2ada309-075d-4d7a-8c5f-6269575978be\">\n",
              "    <div class=\"colab-df-container\">\n",
              "      <div>\n",
              "<style scoped>\n",
              "    .dataframe tbody tr th:only-of-type {\n",
              "        vertical-align: middle;\n",
              "    }\n",
              "\n",
              "    .dataframe tbody tr th {\n",
              "        vertical-align: top;\n",
              "    }\n",
              "\n",
              "    .dataframe thead th {\n",
              "        text-align: right;\n",
              "    }\n",
              "</style>\n",
              "<table border=\"1\" class=\"dataframe\">\n",
              "  <thead>\n",
              "    <tr style=\"text-align: right;\">\n",
              "      <th></th>\n",
              "      <th>source</th>\n",
              "      <th>title</th>\n",
              "      <th>text</th>\n",
              "    </tr>\n",
              "  </thead>\n",
              "  <tbody>\n",
              "    <tr>\n",
              "      <th>0</th>\n",
              "      <td>politicususa</td>\n",
              "      <td>Prosecutors Pay Attention: Stormy Daniels Than...</td>\n",
              "      <td>Manhattan prosecutors are likely to notice tha...</td>\n",
              "    </tr>\n",
              "    <tr>\n",
              "      <th>1</th>\n",
              "      <td>politicususa</td>\n",
              "      <td>Investigators Push For Access To Trump Staff C...</td>\n",
              "      <td>Print\\nInvestigators looking into Donald Trump...</td>\n",
              "    </tr>\n",
              "    <tr>\n",
              "      <th>2</th>\n",
              "      <td>politicususa</td>\n",
              "      <td>The End Is Near For George Santos As He Steps ...</td>\n",
              "      <td>The AP reported:\\nRepublican Rep. George Santo...</td>\n",
              "    </tr>\n",
              "    <tr>\n",
              "      <th>3</th>\n",
              "      <td>politicususa</td>\n",
              "      <td>Rachel Maddow Cuts Trump To The Bone With Stor...</td>\n",
              "      <td>Rachel Maddow showed how Trump committed a cri...</td>\n",
              "    </tr>\n",
              "    <tr>\n",
              "      <th>4</th>\n",
              "      <td>vox</td>\n",
              "      <td>Alec Baldwin has been formally charged with in...</td>\n",
              "      <td>Candles are placed in front of a photo of cine...</td>\n",
              "    </tr>\n",
              "    <tr>\n",
              "      <th>5</th>\n",
              "      <td>vox</td>\n",
              "      <td>What layoffs at Google and other tech companie...</td>\n",
              "      <td>The path forward for tech workers won’t be eas...</td>\n",
              "    </tr>\n",
              "    <tr>\n",
              "      <th>6</th>\n",
              "      <td>vox</td>\n",
              "      <td>Did Republican Representative-elect George San...</td>\n",
              "      <td>New York Representative-elect George Santos sp...</td>\n",
              "    </tr>\n",
              "    <tr>\n",
              "      <th>7</th>\n",
              "      <td>vox</td>\n",
              "      <td>Sundance 2023: 17 movies to watch out for this...</td>\n",
              "      <td>Chiwetel Ejiofor and Emilia Clarke in The Pod ...</td>\n",
              "    </tr>\n",
              "    <tr>\n",
              "      <th>8</th>\n",
              "      <td>huffpost</td>\n",
              "      <td>Watch Trump Give Deposition In New York Civil ...</td>\n",
              "      <td>Watch Trump Give Deposition In New York Civil ...</td>\n",
              "    </tr>\n",
              "    <tr>\n",
              "      <th>9</th>\n",
              "      <td>huffpost</td>\n",
              "      <td>Ron DeSantis Plans To Defund Diversity Program...</td>\n",
              "      <td>Politics Florida Ron DeSantis higher education...</td>\n",
              "    </tr>\n",
              "  </tbody>\n",
              "</table>\n",
              "</div>\n",
              "      <button class=\"colab-df-convert\" onclick=\"convertToInteractive('df-a2ada309-075d-4d7a-8c5f-6269575978be')\"\n",
              "              title=\"Convert this dataframe to an interactive table.\"\n",
              "              style=\"display:none;\">\n",
              "        \n",
              "  <svg xmlns=\"http://www.w3.org/2000/svg\" height=\"24px\"viewBox=\"0 0 24 24\"\n",
              "       width=\"24px\">\n",
              "    <path d=\"M0 0h24v24H0V0z\" fill=\"none\"/>\n",
              "    <path d=\"M18.56 5.44l.94 2.06.94-2.06 2.06-.94-2.06-.94-.94-2.06-.94 2.06-2.06.94zm-11 1L8.5 8.5l.94-2.06 2.06-.94-2.06-.94L8.5 2.5l-.94 2.06-2.06.94zm10 10l.94 2.06.94-2.06 2.06-.94-2.06-.94-.94-2.06-.94 2.06-2.06.94z\"/><path d=\"M17.41 7.96l-1.37-1.37c-.4-.4-.92-.59-1.43-.59-.52 0-1.04.2-1.43.59L10.3 9.45l-7.72 7.72c-.78.78-.78 2.05 0 2.83L4 21.41c.39.39.9.59 1.41.59.51 0 1.02-.2 1.41-.59l7.78-7.78 2.81-2.81c.8-.78.8-2.07 0-2.86zM5.41 20L4 18.59l7.72-7.72 1.47 1.35L5.41 20z\"/>\n",
              "  </svg>\n",
              "      </button>\n",
              "      \n",
              "  <style>\n",
              "    .colab-df-container {\n",
              "      display:flex;\n",
              "      flex-wrap:wrap;\n",
              "      gap: 12px;\n",
              "    }\n",
              "\n",
              "    .colab-df-convert {\n",
              "      background-color: #E8F0FE;\n",
              "      border: none;\n",
              "      border-radius: 50%;\n",
              "      cursor: pointer;\n",
              "      display: none;\n",
              "      fill: #1967D2;\n",
              "      height: 32px;\n",
              "      padding: 0 0 0 0;\n",
              "      width: 32px;\n",
              "    }\n",
              "\n",
              "    .colab-df-convert:hover {\n",
              "      background-color: #E2EBFA;\n",
              "      box-shadow: 0px 1px 2px rgba(60, 64, 67, 0.3), 0px 1px 3px 1px rgba(60, 64, 67, 0.15);\n",
              "      fill: #174EA6;\n",
              "    }\n",
              "\n",
              "    [theme=dark] .colab-df-convert {\n",
              "      background-color: #3B4455;\n",
              "      fill: #D2E3FC;\n",
              "    }\n",
              "\n",
              "    [theme=dark] .colab-df-convert:hover {\n",
              "      background-color: #434B5C;\n",
              "      box-shadow: 0px 1px 3px 1px rgba(0, 0, 0, 0.15);\n",
              "      filter: drop-shadow(0px 1px 2px rgba(0, 0, 0, 0.3));\n",
              "      fill: #FFFFFF;\n",
              "    }\n",
              "  </style>\n",
              "\n",
              "      <script>\n",
              "        const buttonEl =\n",
              "          document.querySelector('#df-a2ada309-075d-4d7a-8c5f-6269575978be button.colab-df-convert');\n",
              "        buttonEl.style.display =\n",
              "          google.colab.kernel.accessAllowed ? 'block' : 'none';\n",
              "\n",
              "        async function convertToInteractive(key) {\n",
              "          const element = document.querySelector('#df-a2ada309-075d-4d7a-8c5f-6269575978be');\n",
              "          const dataTable =\n",
              "            await google.colab.kernel.invokeFunction('convertToInteractive',\n",
              "                                                     [key], {});\n",
              "          if (!dataTable) return;\n",
              "\n",
              "          const docLinkHtml = 'Like what you see? Visit the ' +\n",
              "            '<a target=\"_blank\" href=https://colab.research.google.com/notebooks/data_table.ipynb>data table notebook</a>'\n",
              "            + ' to learn more about interactive tables.';\n",
              "          element.innerHTML = '';\n",
              "          dataTable['output_type'] = 'display_data';\n",
              "          await google.colab.output.renderOutput(dataTable, element);\n",
              "          const docLink = document.createElement('div');\n",
              "          docLink.innerHTML = docLinkHtml;\n",
              "          element.appendChild(docLink);\n",
              "        }\n",
              "      </script>\n",
              "    </div>\n",
              "  </div>\n",
              "  "
            ]
          },
          "metadata": {},
          "execution_count": 4
        }
      ],
      "source": [
        "df = pd.read_csv(url)\n",
        "df.head(10)"
      ]
    },
    {
      "cell_type": "markdown",
      "metadata": {
        "id": "PYln97dpF7cL"
      },
      "source": [
        "## 0. What is the nature of our data?\n",
        "\n",
        "Using your coding skills, answer the following questions. Please comment on your code and results."
      ]
    },
    {
      "cell_type": "code",
      "execution_count": 5,
      "metadata": {
        "id": "tzihpk-LF7cM",
        "colab": {
          "base_uri": "https://localhost:8080/"
        },
        "outputId": "755e67f0-0e8f-4404-e011-0f7d875d95df"
      },
      "outputs": [
        {
          "output_type": "execute_result",
          "data": {
            "text/plain": [
              "(11587, 3)"
            ]
          },
          "metadata": {},
          "execution_count": 5
        }
      ],
      "source": [
        "## 0a. What is the size of the corpus?\n",
        "\n",
        "#check the size of the database\n",
        "df.shape\n",
        "\n",
        "# the corpus contains 11,587 documents"
      ]
    },
    {
      "cell_type": "code",
      "execution_count": 6,
      "metadata": {
        "id": "SxUG57fFF7cM",
        "colab": {
          "base_uri": "https://localhost:8080/",
          "height": 224
        },
        "outputId": "9f97ed91-76ed-472f-d67f-53bd2c393696"
      },
      "outputs": [
        {
          "output_type": "stream",
          "name": "stdout",
          "text": [
            "(1190, 3)\n"
          ]
        },
        {
          "output_type": "execute_result",
          "data": {
            "text/plain": [
              "         source                                              title  \\\n",
              "0  politicususa  Prosecutors Pay Attention: Stormy Daniels Than...   \n",
              "1  politicususa  Investigators Push For Access To Trump Staff C...   \n",
              "2  politicususa  The End Is Near For George Santos As He Steps ...   \n",
              "3  politicususa  Rachel Maddow Cuts Trump To The Bone With Stor...   \n",
              "4           vox  Alec Baldwin has been formally charged with in...   \n",
              "\n",
              "                                                text  \n",
              "0  Manhattan prosecutors are likely to notice tha...  \n",
              "1  Print\\nInvestigators looking into Donald Trump...  \n",
              "2  The AP reported:\\nRepublican Rep. George Santo...  \n",
              "3  Rachel Maddow showed how Trump committed a cri...  \n",
              "4  Candles are placed in front of a photo of cine...  "
            ],
            "text/html": [
              "\n",
              "  <div id=\"df-6c36998d-ee42-490c-a60c-5076b7838406\">\n",
              "    <div class=\"colab-df-container\">\n",
              "      <div>\n",
              "<style scoped>\n",
              "    .dataframe tbody tr th:only-of-type {\n",
              "        vertical-align: middle;\n",
              "    }\n",
              "\n",
              "    .dataframe tbody tr th {\n",
              "        vertical-align: top;\n",
              "    }\n",
              "\n",
              "    .dataframe thead th {\n",
              "        text-align: right;\n",
              "    }\n",
              "</style>\n",
              "<table border=\"1\" class=\"dataframe\">\n",
              "  <thead>\n",
              "    <tr style=\"text-align: right;\">\n",
              "      <th></th>\n",
              "      <th>source</th>\n",
              "      <th>title</th>\n",
              "      <th>text</th>\n",
              "    </tr>\n",
              "  </thead>\n",
              "  <tbody>\n",
              "    <tr>\n",
              "      <th>0</th>\n",
              "      <td>politicususa</td>\n",
              "      <td>Prosecutors Pay Attention: Stormy Daniels Than...</td>\n",
              "      <td>Manhattan prosecutors are likely to notice tha...</td>\n",
              "    </tr>\n",
              "    <tr>\n",
              "      <th>1</th>\n",
              "      <td>politicususa</td>\n",
              "      <td>Investigators Push For Access To Trump Staff C...</td>\n",
              "      <td>Print\\nInvestigators looking into Donald Trump...</td>\n",
              "    </tr>\n",
              "    <tr>\n",
              "      <th>2</th>\n",
              "      <td>politicususa</td>\n",
              "      <td>The End Is Near For George Santos As He Steps ...</td>\n",
              "      <td>The AP reported:\\nRepublican Rep. George Santo...</td>\n",
              "    </tr>\n",
              "    <tr>\n",
              "      <th>3</th>\n",
              "      <td>politicususa</td>\n",
              "      <td>Rachel Maddow Cuts Trump To The Bone With Stor...</td>\n",
              "      <td>Rachel Maddow showed how Trump committed a cri...</td>\n",
              "    </tr>\n",
              "    <tr>\n",
              "      <th>4</th>\n",
              "      <td>vox</td>\n",
              "      <td>Alec Baldwin has been formally charged with in...</td>\n",
              "      <td>Candles are placed in front of a photo of cine...</td>\n",
              "    </tr>\n",
              "  </tbody>\n",
              "</table>\n",
              "</div>\n",
              "      <button class=\"colab-df-convert\" onclick=\"convertToInteractive('df-6c36998d-ee42-490c-a60c-5076b7838406')\"\n",
              "              title=\"Convert this dataframe to an interactive table.\"\n",
              "              style=\"display:none;\">\n",
              "        \n",
              "  <svg xmlns=\"http://www.w3.org/2000/svg\" height=\"24px\"viewBox=\"0 0 24 24\"\n",
              "       width=\"24px\">\n",
              "    <path d=\"M0 0h24v24H0V0z\" fill=\"none\"/>\n",
              "    <path d=\"M18.56 5.44l.94 2.06.94-2.06 2.06-.94-2.06-.94-.94-2.06-.94 2.06-2.06.94zm-11 1L8.5 8.5l.94-2.06 2.06-.94-2.06-.94L8.5 2.5l-.94 2.06-2.06.94zm10 10l.94 2.06.94-2.06 2.06-.94-2.06-.94-.94-2.06-.94 2.06-2.06.94z\"/><path d=\"M17.41 7.96l-1.37-1.37c-.4-.4-.92-.59-1.43-.59-.52 0-1.04.2-1.43.59L10.3 9.45l-7.72 7.72c-.78.78-.78 2.05 0 2.83L4 21.41c.39.39.9.59 1.41.59.51 0 1.02-.2 1.41-.59l7.78-7.78 2.81-2.81c.8-.78.8-2.07 0-2.86zM5.41 20L4 18.59l7.72-7.72 1.47 1.35L5.41 20z\"/>\n",
              "  </svg>\n",
              "      </button>\n",
              "      \n",
              "  <style>\n",
              "    .colab-df-container {\n",
              "      display:flex;\n",
              "      flex-wrap:wrap;\n",
              "      gap: 12px;\n",
              "    }\n",
              "\n",
              "    .colab-df-convert {\n",
              "      background-color: #E8F0FE;\n",
              "      border: none;\n",
              "      border-radius: 50%;\n",
              "      cursor: pointer;\n",
              "      display: none;\n",
              "      fill: #1967D2;\n",
              "      height: 32px;\n",
              "      padding: 0 0 0 0;\n",
              "      width: 32px;\n",
              "    }\n",
              "\n",
              "    .colab-df-convert:hover {\n",
              "      background-color: #E2EBFA;\n",
              "      box-shadow: 0px 1px 2px rgba(60, 64, 67, 0.3), 0px 1px 3px 1px rgba(60, 64, 67, 0.15);\n",
              "      fill: #174EA6;\n",
              "    }\n",
              "\n",
              "    [theme=dark] .colab-df-convert {\n",
              "      background-color: #3B4455;\n",
              "      fill: #D2E3FC;\n",
              "    }\n",
              "\n",
              "    [theme=dark] .colab-df-convert:hover {\n",
              "      background-color: #434B5C;\n",
              "      box-shadow: 0px 1px 3px 1px rgba(0, 0, 0, 0.15);\n",
              "      filter: drop-shadow(0px 1px 2px rgba(0, 0, 0, 0.3));\n",
              "      fill: #FFFFFF;\n",
              "    }\n",
              "  </style>\n",
              "\n",
              "      <script>\n",
              "        const buttonEl =\n",
              "          document.querySelector('#df-6c36998d-ee42-490c-a60c-5076b7838406 button.colab-df-convert');\n",
              "        buttonEl.style.display =\n",
              "          google.colab.kernel.accessAllowed ? 'block' : 'none';\n",
              "\n",
              "        async function convertToInteractive(key) {\n",
              "          const element = document.querySelector('#df-6c36998d-ee42-490c-a60c-5076b7838406');\n",
              "          const dataTable =\n",
              "            await google.colab.kernel.invokeFunction('convertToInteractive',\n",
              "                                                     [key], {});\n",
              "          if (!dataTable) return;\n",
              "\n",
              "          const docLinkHtml = 'Like what you see? Visit the ' +\n",
              "            '<a target=\"_blank\" href=https://colab.research.google.com/notebooks/data_table.ipynb>data table notebook</a>'\n",
              "            + ' to learn more about interactive tables.';\n",
              "          element.innerHTML = '';\n",
              "          dataTable['output_type'] = 'display_data';\n",
              "          await google.colab.output.renderOutput(dataTable, element);\n",
              "          const docLink = document.createElement('div');\n",
              "          docLink.innerHTML = docLinkHtml;\n",
              "          element.appendChild(docLink);\n",
              "        }\n",
              "      </script>\n",
              "    </div>\n",
              "  </div>\n",
              "  "
            ]
          },
          "metadata": {},
          "execution_count": 6
        }
      ],
      "source": [
        "## 0b. Are there any duplicates in the corpus? If so, remove or drop them.\n",
        "\n",
        "# use pd.duplicated to identify duplicate rows on source, title, and text. returns true if the row index is a duplicate\n",
        "# subset df where df.duplicated is not true, therefore false\n",
        "df2 = df[~df.duplicated(['title', 'source','text'])]\n",
        "\n",
        "print(df2.shape)\n",
        "df2.head()"
      ]
    },
    {
      "cell_type": "code",
      "execution_count": 7,
      "metadata": {
        "id": "koiHbdtEF7cN",
        "colab": {
          "base_uri": "https://localhost:8080/",
          "height": 269
        },
        "outputId": "b31af68c-0f85-48a2-aebb-cffcfcd0bf1d"
      },
      "outputs": [
        {
          "output_type": "execute_result",
          "data": {
            "text/plain": [
              "         source                                              title  \\\n",
              "0  politicususa  Prosecutors Pay Attention: Stormy Daniels Than...   \n",
              "1  politicususa  Investigators Push For Access To Trump Staff C...   \n",
              "2  politicususa  The End Is Near For George Santos As He Steps ...   \n",
              "3  politicususa  Rachel Maddow Cuts Trump To The Bone With Stor...   \n",
              "4           vox  Alec Baldwin has been formally charged with in...   \n",
              "5           vox  What layoffs at Google and other tech companie...   \n",
              "6           vox  Did Republican Representative-elect George San...   \n",
              "\n",
              "                                                text  \n",
              "0  Manhattan prosecutors are likely to notice tha...  \n",
              "1  Print\\nInvestigators looking into Donald Trump...  \n",
              "2  The AP reported:\\nRepublican Rep. George Santo...  \n",
              "3  Rachel Maddow showed how Trump committed a cri...  \n",
              "4  Candles are placed in front of a photo of cine...  \n",
              "5  The path forward for tech workers won’t be eas...  \n",
              "6  New York Representative-elect George Santos sp...  "
            ],
            "text/html": [
              "\n",
              "  <div id=\"df-b7da9d11-a6f1-4533-834d-7e3ccc63cc32\">\n",
              "    <div class=\"colab-df-container\">\n",
              "      <div>\n",
              "<style scoped>\n",
              "    .dataframe tbody tr th:only-of-type {\n",
              "        vertical-align: middle;\n",
              "    }\n",
              "\n",
              "    .dataframe tbody tr th {\n",
              "        vertical-align: top;\n",
              "    }\n",
              "\n",
              "    .dataframe thead th {\n",
              "        text-align: right;\n",
              "    }\n",
              "</style>\n",
              "<table border=\"1\" class=\"dataframe\">\n",
              "  <thead>\n",
              "    <tr style=\"text-align: right;\">\n",
              "      <th></th>\n",
              "      <th>source</th>\n",
              "      <th>title</th>\n",
              "      <th>text</th>\n",
              "    </tr>\n",
              "  </thead>\n",
              "  <tbody>\n",
              "    <tr>\n",
              "      <th>0</th>\n",
              "      <td>politicususa</td>\n",
              "      <td>Prosecutors Pay Attention: Stormy Daniels Than...</td>\n",
              "      <td>Manhattan prosecutors are likely to notice tha...</td>\n",
              "    </tr>\n",
              "    <tr>\n",
              "      <th>1</th>\n",
              "      <td>politicususa</td>\n",
              "      <td>Investigators Push For Access To Trump Staff C...</td>\n",
              "      <td>Print\\nInvestigators looking into Donald Trump...</td>\n",
              "    </tr>\n",
              "    <tr>\n",
              "      <th>2</th>\n",
              "      <td>politicususa</td>\n",
              "      <td>The End Is Near For George Santos As He Steps ...</td>\n",
              "      <td>The AP reported:\\nRepublican Rep. George Santo...</td>\n",
              "    </tr>\n",
              "    <tr>\n",
              "      <th>3</th>\n",
              "      <td>politicususa</td>\n",
              "      <td>Rachel Maddow Cuts Trump To The Bone With Stor...</td>\n",
              "      <td>Rachel Maddow showed how Trump committed a cri...</td>\n",
              "    </tr>\n",
              "    <tr>\n",
              "      <th>4</th>\n",
              "      <td>vox</td>\n",
              "      <td>Alec Baldwin has been formally charged with in...</td>\n",
              "      <td>Candles are placed in front of a photo of cine...</td>\n",
              "    </tr>\n",
              "    <tr>\n",
              "      <th>5</th>\n",
              "      <td>vox</td>\n",
              "      <td>What layoffs at Google and other tech companie...</td>\n",
              "      <td>The path forward for tech workers won’t be eas...</td>\n",
              "    </tr>\n",
              "    <tr>\n",
              "      <th>6</th>\n",
              "      <td>vox</td>\n",
              "      <td>Did Republican Representative-elect George San...</td>\n",
              "      <td>New York Representative-elect George Santos sp...</td>\n",
              "    </tr>\n",
              "  </tbody>\n",
              "</table>\n",
              "</div>\n",
              "      <button class=\"colab-df-convert\" onclick=\"convertToInteractive('df-b7da9d11-a6f1-4533-834d-7e3ccc63cc32')\"\n",
              "              title=\"Convert this dataframe to an interactive table.\"\n",
              "              style=\"display:none;\">\n",
              "        \n",
              "  <svg xmlns=\"http://www.w3.org/2000/svg\" height=\"24px\"viewBox=\"0 0 24 24\"\n",
              "       width=\"24px\">\n",
              "    <path d=\"M0 0h24v24H0V0z\" fill=\"none\"/>\n",
              "    <path d=\"M18.56 5.44l.94 2.06.94-2.06 2.06-.94-2.06-.94-.94-2.06-.94 2.06-2.06.94zm-11 1L8.5 8.5l.94-2.06 2.06-.94-2.06-.94L8.5 2.5l-.94 2.06-2.06.94zm10 10l.94 2.06.94-2.06 2.06-.94-2.06-.94-.94-2.06-.94 2.06-2.06.94z\"/><path d=\"M17.41 7.96l-1.37-1.37c-.4-.4-.92-.59-1.43-.59-.52 0-1.04.2-1.43.59L10.3 9.45l-7.72 7.72c-.78.78-.78 2.05 0 2.83L4 21.41c.39.39.9.59 1.41.59.51 0 1.02-.2 1.41-.59l7.78-7.78 2.81-2.81c.8-.78.8-2.07 0-2.86zM5.41 20L4 18.59l7.72-7.72 1.47 1.35L5.41 20z\"/>\n",
              "  </svg>\n",
              "      </button>\n",
              "      \n",
              "  <style>\n",
              "    .colab-df-container {\n",
              "      display:flex;\n",
              "      flex-wrap:wrap;\n",
              "      gap: 12px;\n",
              "    }\n",
              "\n",
              "    .colab-df-convert {\n",
              "      background-color: #E8F0FE;\n",
              "      border: none;\n",
              "      border-radius: 50%;\n",
              "      cursor: pointer;\n",
              "      display: none;\n",
              "      fill: #1967D2;\n",
              "      height: 32px;\n",
              "      padding: 0 0 0 0;\n",
              "      width: 32px;\n",
              "    }\n",
              "\n",
              "    .colab-df-convert:hover {\n",
              "      background-color: #E2EBFA;\n",
              "      box-shadow: 0px 1px 2px rgba(60, 64, 67, 0.3), 0px 1px 3px 1px rgba(60, 64, 67, 0.15);\n",
              "      fill: #174EA6;\n",
              "    }\n",
              "\n",
              "    [theme=dark] .colab-df-convert {\n",
              "      background-color: #3B4455;\n",
              "      fill: #D2E3FC;\n",
              "    }\n",
              "\n",
              "    [theme=dark] .colab-df-convert:hover {\n",
              "      background-color: #434B5C;\n",
              "      box-shadow: 0px 1px 3px 1px rgba(0, 0, 0, 0.15);\n",
              "      filter: drop-shadow(0px 1px 2px rgba(0, 0, 0, 0.3));\n",
              "      fill: #FFFFFF;\n",
              "    }\n",
              "  </style>\n",
              "\n",
              "      <script>\n",
              "        const buttonEl =\n",
              "          document.querySelector('#df-b7da9d11-a6f1-4533-834d-7e3ccc63cc32 button.colab-df-convert');\n",
              "        buttonEl.style.display =\n",
              "          google.colab.kernel.accessAllowed ? 'block' : 'none';\n",
              "\n",
              "        async function convertToInteractive(key) {\n",
              "          const element = document.querySelector('#df-b7da9d11-a6f1-4533-834d-7e3ccc63cc32');\n",
              "          const dataTable =\n",
              "            await google.colab.kernel.invokeFunction('convertToInteractive',\n",
              "                                                     [key], {});\n",
              "          if (!dataTable) return;\n",
              "\n",
              "          const docLinkHtml = 'Like what you see? Visit the ' +\n",
              "            '<a target=\"_blank\" href=https://colab.research.google.com/notebooks/data_table.ipynb>data table notebook</a>'\n",
              "            + ' to learn more about interactive tables.';\n",
              "          element.innerHTML = '';\n",
              "          dataTable['output_type'] = 'display_data';\n",
              "          await google.colab.output.renderOutput(dataTable, element);\n",
              "          const docLink = document.createElement('div');\n",
              "          docLink.innerHTML = docLinkHtml;\n",
              "          element.appendChild(docLink);\n",
              "        }\n",
              "      </script>\n",
              "    </div>\n",
              "  </div>\n",
              "  "
            ]
          },
          "metadata": {},
          "execution_count": 7
        }
      ],
      "source": [
        "## 0c. Are there any missing values in the corpus? If so, what data are missing?\n",
        "## Should the missing values be removed, explain?\n",
        "\n",
        "# identify where any value in a row is na, and subset the database excluding nan\n",
        "df = df2[~df2.isna().any(axis=1)]\n",
        "\n",
        "# I am removing missing values, because the five rows that were identified were all missing the text, which is necessary for token analysis\n",
        "df.head(7)"
      ]
    },
    {
      "cell_type": "markdown",
      "metadata": {
        "id": "Uzz-hvFQF7cN"
      },
      "source": [
        "## 1.0 What is the distribution of `token`s per document?\n",
        "\n",
        "Use the `spaCy` library to tokenize the text and analyze the distribution of token frequencies. You can use the `Counter` class from the `collections` library to count the number of times each token appears in the corpus."
      ]
    },
    {
      "cell_type": "code",
      "execution_count": 12,
      "metadata": {
        "id": "grZOGaKqF7cO",
        "colab": {
          "base_uri": "https://localhost:8080/"
        },
        "outputId": "e9c863a0-03b9-4305-ca9e-2fca8b7c69e5"
      },
      "outputs": [
        {
          "output_type": "stream",
          "name": "stderr",
          "text": [
            "/usr/local/lib/python3.8/dist-packages/torch/cuda/__init__.py:497: UserWarning: Can't initialize NVML\n",
            "  warnings.warn(\"Can't initialize NVML\")\n"
          ]
        }
      ],
      "source": [
        "import spacy\n",
        "import pandas as pd\n",
        "import numpy as np\n",
        "import matplotlib.pyplot as plt\n",
        "\n",
        "\n",
        "## Load the spacy model: nlp\n",
        "NLP = spacy.load('en_core_web_sm')\n"
      ]
    },
    {
      "cell_type": "code",
      "execution_count": 13,
      "metadata": {
        "id": "2_q6xJRjF7cO",
        "colab": {
          "base_uri": "https://localhost:8080/",
          "height": 560,
          "referenced_widgets": [
            "c94938aac40041ef99c9035249cfc989",
            "1611841f78aa4389bd2d355016f816ca",
            "457dc427fdc143bd9604c2230d30c919",
            "8672a97273064e7ab84d861aa053befd",
            "284e9e3e6853457ca9bb78b5e4c7d22c",
            "aba7bbb4005240efa945faf9c32a9023",
            "bb8c1fc9aee349b5a64dcff8ca6bf4ec",
            "25306c8742de43769023678706eab49a",
            "ad0ed3eb6c424b9ba8ca75a49db61360",
            "5f5a1b9c12c24fb08e01ab08fb97e112",
            "7784f834fb2c4af086c36eca9c06c7d8"
          ]
        },
        "outputId": "b664daec-6207-4f9d-e01a-c5633880ab12"
      },
      "outputs": [
        {
          "output_type": "display_data",
          "data": {
            "text/plain": [
              "  0%|          | 0/1185 [00:00<?, ?it/s]"
            ],
            "application/vnd.jupyter.widget-view+json": {
              "version_major": 2,
              "version_minor": 0,
              "model_id": "c94938aac40041ef99c9035249cfc989"
            }
          },
          "metadata": {}
        },
        {
          "output_type": "stream",
          "name": "stderr",
          "text": [
            "<ipython-input-13-bde73febba45>:3: SettingWithCopyWarning: \n",
            "A value is trying to be set on a copy of a slice from a DataFrame.\n",
            "Try using .loc[row_indexer,col_indexer] = value instead\n",
            "\n",
            "See the caveats in the documentation: https://pandas.pydata.org/pandas-docs/stable/user_guide/indexing.html#returning-a-view-versus-a-copy\n",
            "  df['tokens'] = df['text'].progress_apply(lambda x: [x.lemma_.lower() for x in NLP(x) if x.lemma_.lower()])\n"
          ]
        },
        {
          "output_type": "execute_result",
          "data": {
            "text/plain": [
              "                 source                                              title  \\\n",
              "0          politicususa  Prosecutors Pay Attention: Stormy Daniels Than...   \n",
              "1          politicususa  Investigators Push For Access To Trump Staff C...   \n",
              "2          politicususa  The End Is Near For George Santos As He Steps ...   \n",
              "3          politicususa  Rachel Maddow Cuts Trump To The Bone With Stor...   \n",
              "4                   vox  Alec Baldwin has been formally charged with in...   \n",
              "...                 ...                                                ...   \n",
              "11500           thehill  White House bids farewell to Klain, as Zients ...   \n",
              "11543           thehill  Lawmakers clash over allowing guns in Natural ...   \n",
              "11559    westernjournal  Pizza Shop Employee Gets Rude Awakening After ...   \n",
              "11560    westernjournal  White House Accused of 'Dishonesty and Evasive...   \n",
              "11586  thegatewaypundit  Kremlin Offers Cash Bounties for Burning US an...   \n",
              "\n",
              "                                                    text  \\\n",
              "0      Manhattan prosecutors are likely to notice tha...   \n",
              "1      Print\\nInvestigators looking into Donald Trump...   \n",
              "2      The AP reported:\\nRepublican Rep. George Santo...   \n",
              "3      Rachel Maddow showed how Trump committed a cri...   \n",
              "4      Candles are placed in front of a photo of cine...   \n",
              "...                                                  ...   \n",
              "11500  White House bids farewell to Klain, as Zients ...   \n",
              "11543  Lawmakers clash over allowing guns in Natural ...   \n",
              "11559  Pizza Shop Employee Gets Rude Awakening After ...   \n",
              "11560  President Joe Biden boards Air Force One at th...   \n",
              "11586  Russian politicians and companies offer reward...   \n",
              "\n",
              "                                                  tokens  \n",
              "0      [manhattan, prosecutor, be, likely, to, notice...  \n",
              "1      [print, \\n, investigator, look, into, donald, ...  \n",
              "2      [the, ap, report, :, \\n, republican, rep., geo...  \n",
              "3      [rachel, maddow, show, how, trump, commit, a, ...  \n",
              "4      [candle, be, place, in, front, of, a, photo, o...  \n",
              "...                                                  ...  \n",
              "11500  [white, house, bid, farewell, to, klain, ,, as...  \n",
              "11543  [lawmaker, clash, over, allow, gun, in, natura...  \n",
              "11559  [pizza, shop, employee, get, rude, awakening, ...  \n",
              "11560  [president, joe, biden, board, air, force, one...  \n",
              "11586  [russian, politician, and, company, offer, rew...  \n",
              "\n",
              "[1185 rows x 4 columns]"
            ],
            "text/html": [
              "\n",
              "  <div id=\"df-0bdafa03-1adc-422a-81c4-bc9e450328d4\">\n",
              "    <div class=\"colab-df-container\">\n",
              "      <div>\n",
              "<style scoped>\n",
              "    .dataframe tbody tr th:only-of-type {\n",
              "        vertical-align: middle;\n",
              "    }\n",
              "\n",
              "    .dataframe tbody tr th {\n",
              "        vertical-align: top;\n",
              "    }\n",
              "\n",
              "    .dataframe thead th {\n",
              "        text-align: right;\n",
              "    }\n",
              "</style>\n",
              "<table border=\"1\" class=\"dataframe\">\n",
              "  <thead>\n",
              "    <tr style=\"text-align: right;\">\n",
              "      <th></th>\n",
              "      <th>source</th>\n",
              "      <th>title</th>\n",
              "      <th>text</th>\n",
              "      <th>tokens</th>\n",
              "    </tr>\n",
              "  </thead>\n",
              "  <tbody>\n",
              "    <tr>\n",
              "      <th>0</th>\n",
              "      <td>politicususa</td>\n",
              "      <td>Prosecutors Pay Attention: Stormy Daniels Than...</td>\n",
              "      <td>Manhattan prosecutors are likely to notice tha...</td>\n",
              "      <td>[manhattan, prosecutor, be, likely, to, notice...</td>\n",
              "    </tr>\n",
              "    <tr>\n",
              "      <th>1</th>\n",
              "      <td>politicususa</td>\n",
              "      <td>Investigators Push For Access To Trump Staff C...</td>\n",
              "      <td>Print\\nInvestigators looking into Donald Trump...</td>\n",
              "      <td>[print, \\n, investigator, look, into, donald, ...</td>\n",
              "    </tr>\n",
              "    <tr>\n",
              "      <th>2</th>\n",
              "      <td>politicususa</td>\n",
              "      <td>The End Is Near For George Santos As He Steps ...</td>\n",
              "      <td>The AP reported:\\nRepublican Rep. George Santo...</td>\n",
              "      <td>[the, ap, report, :, \\n, republican, rep., geo...</td>\n",
              "    </tr>\n",
              "    <tr>\n",
              "      <th>3</th>\n",
              "      <td>politicususa</td>\n",
              "      <td>Rachel Maddow Cuts Trump To The Bone With Stor...</td>\n",
              "      <td>Rachel Maddow showed how Trump committed a cri...</td>\n",
              "      <td>[rachel, maddow, show, how, trump, commit, a, ...</td>\n",
              "    </tr>\n",
              "    <tr>\n",
              "      <th>4</th>\n",
              "      <td>vox</td>\n",
              "      <td>Alec Baldwin has been formally charged with in...</td>\n",
              "      <td>Candles are placed in front of a photo of cine...</td>\n",
              "      <td>[candle, be, place, in, front, of, a, photo, o...</td>\n",
              "    </tr>\n",
              "    <tr>\n",
              "      <th>...</th>\n",
              "      <td>...</td>\n",
              "      <td>...</td>\n",
              "      <td>...</td>\n",
              "      <td>...</td>\n",
              "    </tr>\n",
              "    <tr>\n",
              "      <th>11500</th>\n",
              "      <td>thehill</td>\n",
              "      <td>White House bids farewell to Klain, as Zients ...</td>\n",
              "      <td>White House bids farewell to Klain, as Zients ...</td>\n",
              "      <td>[white, house, bid, farewell, to, klain, ,, as...</td>\n",
              "    </tr>\n",
              "    <tr>\n",
              "      <th>11543</th>\n",
              "      <td>thehill</td>\n",
              "      <td>Lawmakers clash over allowing guns in Natural ...</td>\n",
              "      <td>Lawmakers clash over allowing guns in Natural ...</td>\n",
              "      <td>[lawmaker, clash, over, allow, gun, in, natura...</td>\n",
              "    </tr>\n",
              "    <tr>\n",
              "      <th>11559</th>\n",
              "      <td>westernjournal</td>\n",
              "      <td>Pizza Shop Employee Gets Rude Awakening After ...</td>\n",
              "      <td>Pizza Shop Employee Gets Rude Awakening After ...</td>\n",
              "      <td>[pizza, shop, employee, get, rude, awakening, ...</td>\n",
              "    </tr>\n",
              "    <tr>\n",
              "      <th>11560</th>\n",
              "      <td>westernjournal</td>\n",
              "      <td>White House Accused of 'Dishonesty and Evasive...</td>\n",
              "      <td>President Joe Biden boards Air Force One at th...</td>\n",
              "      <td>[president, joe, biden, board, air, force, one...</td>\n",
              "    </tr>\n",
              "    <tr>\n",
              "      <th>11586</th>\n",
              "      <td>thegatewaypundit</td>\n",
              "      <td>Kremlin Offers Cash Bounties for Burning US an...</td>\n",
              "      <td>Russian politicians and companies offer reward...</td>\n",
              "      <td>[russian, politician, and, company, offer, rew...</td>\n",
              "    </tr>\n",
              "  </tbody>\n",
              "</table>\n",
              "<p>1185 rows × 4 columns</p>\n",
              "</div>\n",
              "      <button class=\"colab-df-convert\" onclick=\"convertToInteractive('df-0bdafa03-1adc-422a-81c4-bc9e450328d4')\"\n",
              "              title=\"Convert this dataframe to an interactive table.\"\n",
              "              style=\"display:none;\">\n",
              "        \n",
              "  <svg xmlns=\"http://www.w3.org/2000/svg\" height=\"24px\"viewBox=\"0 0 24 24\"\n",
              "       width=\"24px\">\n",
              "    <path d=\"M0 0h24v24H0V0z\" fill=\"none\"/>\n",
              "    <path d=\"M18.56 5.44l.94 2.06.94-2.06 2.06-.94-2.06-.94-.94-2.06-.94 2.06-2.06.94zm-11 1L8.5 8.5l.94-2.06 2.06-.94-2.06-.94L8.5 2.5l-.94 2.06-2.06.94zm10 10l.94 2.06.94-2.06 2.06-.94-2.06-.94-.94-2.06-.94 2.06-2.06.94z\"/><path d=\"M17.41 7.96l-1.37-1.37c-.4-.4-.92-.59-1.43-.59-.52 0-1.04.2-1.43.59L10.3 9.45l-7.72 7.72c-.78.78-.78 2.05 0 2.83L4 21.41c.39.39.9.59 1.41.59.51 0 1.02-.2 1.41-.59l7.78-7.78 2.81-2.81c.8-.78.8-2.07 0-2.86zM5.41 20L4 18.59l7.72-7.72 1.47 1.35L5.41 20z\"/>\n",
              "  </svg>\n",
              "      </button>\n",
              "      \n",
              "  <style>\n",
              "    .colab-df-container {\n",
              "      display:flex;\n",
              "      flex-wrap:wrap;\n",
              "      gap: 12px;\n",
              "    }\n",
              "\n",
              "    .colab-df-convert {\n",
              "      background-color: #E8F0FE;\n",
              "      border: none;\n",
              "      border-radius: 50%;\n",
              "      cursor: pointer;\n",
              "      display: none;\n",
              "      fill: #1967D2;\n",
              "      height: 32px;\n",
              "      padding: 0 0 0 0;\n",
              "      width: 32px;\n",
              "    }\n",
              "\n",
              "    .colab-df-convert:hover {\n",
              "      background-color: #E2EBFA;\n",
              "      box-shadow: 0px 1px 2px rgba(60, 64, 67, 0.3), 0px 1px 3px 1px rgba(60, 64, 67, 0.15);\n",
              "      fill: #174EA6;\n",
              "    }\n",
              "\n",
              "    [theme=dark] .colab-df-convert {\n",
              "      background-color: #3B4455;\n",
              "      fill: #D2E3FC;\n",
              "    }\n",
              "\n",
              "    [theme=dark] .colab-df-convert:hover {\n",
              "      background-color: #434B5C;\n",
              "      box-shadow: 0px 1px 3px 1px rgba(0, 0, 0, 0.15);\n",
              "      filter: drop-shadow(0px 1px 2px rgba(0, 0, 0, 0.3));\n",
              "      fill: #FFFFFF;\n",
              "    }\n",
              "  </style>\n",
              "\n",
              "      <script>\n",
              "        const buttonEl =\n",
              "          document.querySelector('#df-0bdafa03-1adc-422a-81c4-bc9e450328d4 button.colab-df-convert');\n",
              "        buttonEl.style.display =\n",
              "          google.colab.kernel.accessAllowed ? 'block' : 'none';\n",
              "\n",
              "        async function convertToInteractive(key) {\n",
              "          const element = document.querySelector('#df-0bdafa03-1adc-422a-81c4-bc9e450328d4');\n",
              "          const dataTable =\n",
              "            await google.colab.kernel.invokeFunction('convertToInteractive',\n",
              "                                                     [key], {});\n",
              "          if (!dataTable) return;\n",
              "\n",
              "          const docLinkHtml = 'Like what you see? Visit the ' +\n",
              "            '<a target=\"_blank\" href=https://colab.research.google.com/notebooks/data_table.ipynb>data table notebook</a>'\n",
              "            + ' to learn more about interactive tables.';\n",
              "          element.innerHTML = '';\n",
              "          dataTable['output_type'] = 'display_data';\n",
              "          await google.colab.output.renderOutput(dataTable, element);\n",
              "          const docLink = document.createElement('div');\n",
              "          docLink.innerHTML = docLinkHtml;\n",
              "          element.appendChild(docLink);\n",
              "        }\n",
              "      </script>\n",
              "    </div>\n",
              "  </div>\n",
              "  "
            ]
          },
          "metadata": {},
          "execution_count": 13
        }
      ],
      "source": [
        "## Generate the tokens using Spacy\n",
        "\n",
        "df['tokens'] = df['text'].progress_apply(lambda x: [x.lemma_.lower() for x in NLP(x) if x.lemma_.lower()])\n",
        "df"
      ]
    },
    {
      "cell_type": "code",
      "execution_count": 15,
      "metadata": {
        "id": "oO2AluUPF7cO",
        "colab": {
          "base_uri": "https://localhost:8080/"
        },
        "outputId": "da413908-cf83-4606-f3f0-4a253e6e91af"
      },
      "outputs": [
        {
          "output_type": "execute_result",
          "data": {
            "text/plain": [
              "(939744, 3)"
            ]
          },
          "metadata": {},
          "execution_count": 15
        }
      ],
      "source": [
        "## Count the tokens\n",
        "\n",
        "corpus_tokens = (df\n",
        "                  .explode('tokens')\n",
        "                  .drop(columns=['text'])\n",
        "                )\n",
        "# total tokens = 939744\n",
        "corpus_tokens.shape"
      ]
    },
    {
      "cell_type": "code",
      "source": [
        "# remove punctuation from tokens\n",
        "import string\n",
        "punctuation = list(string.punctuation)\n",
        "corpus_tokens = corpus_tokens[~corpus_tokens['tokens'].isin(punctuation)].reset_index().drop(columns='index')\n",
        "corpus_tokens.shape\n",
        "\n",
        "# Now 823400 tokens"
      ],
      "metadata": {
        "colab": {
          "base_uri": "https://localhost:8080/"
        },
        "id": "EMlh4apJP3KX",
        "outputId": "c16de1e5-dbb4-49b5-b206-de12bfe51a06"
      },
      "execution_count": 16,
      "outputs": [
        {
          "output_type": "execute_result",
          "data": {
            "text/plain": [
              "(823400, 3)"
            ]
          },
          "metadata": {},
          "execution_count": 16
        }
      ]
    },
    {
      "cell_type": "code",
      "source": [
        "# Add docID to link tokens to their documents\n",
        "corpus_tokens['docID'] = corpus_tokens.groupby(['title','source']).ngroup()\n",
        "\n",
        "corpus_tokens.sort_values(by='docID')"
      ],
      "metadata": {
        "colab": {
          "base_uri": "https://localhost:8080/",
          "height": 424
        },
        "id": "e1u9bpLCRdyf",
        "outputId": "15eeba01-8e4c-4310-a29a-aa41a95317b9"
      },
      "execution_count": 17,
      "outputs": [
        {
          "output_type": "execute_result",
          "data": {
            "text/plain": [
              "                  source                                              title  \\\n",
              "98529   thegatewaypundit  \"His Policies Were Incredibly Good for This Co...   \n",
              "98430   thegatewaypundit  \"His Policies Were Incredibly Good for This Co...   \n",
              "98431   thegatewaypundit  \"His Policies Were Incredibly Good for This Co...   \n",
              "98432   thegatewaypundit  \"His Policies Were Incredibly Good for This Co...   \n",
              "98433   thegatewaypundit  \"His Policies Were Incredibly Good for This Co...   \n",
              "...                  ...                                                ...   \n",
              "429084           thehill  ’48 Hours’ Erin Moriarty talks covering crime,...   \n",
              "429083           thehill  ’48 Hours’ Erin Moriarty talks covering crime,...   \n",
              "429082           thehill  ’48 Hours’ Erin Moriarty talks covering crime,...   \n",
              "429088           thehill  ’48 Hours’ Erin Moriarty talks covering crime,...   \n",
              "429508           thehill  ’48 Hours’ Erin Moriarty talks covering crime,...   \n",
              "\n",
              "         tokens  docID  \n",
              "98529     after      0  \n",
              "98430       for      0  \n",
              "98431      this      0  \n",
              "98432   country      0  \n",
              "98433       and      0  \n",
              "...         ...    ...  \n",
              "429084     some    713  \n",
              "429083       \\n    713  \n",
              "429082    piece    713  \n",
              "429088      she    713  \n",
              "429508      lot    713  \n",
              "\n",
              "[823400 rows x 4 columns]"
            ],
            "text/html": [
              "\n",
              "  <div id=\"df-a534518e-8a4e-4b4a-8782-eeda7da82e64\">\n",
              "    <div class=\"colab-df-container\">\n",
              "      <div>\n",
              "<style scoped>\n",
              "    .dataframe tbody tr th:only-of-type {\n",
              "        vertical-align: middle;\n",
              "    }\n",
              "\n",
              "    .dataframe tbody tr th {\n",
              "        vertical-align: top;\n",
              "    }\n",
              "\n",
              "    .dataframe thead th {\n",
              "        text-align: right;\n",
              "    }\n",
              "</style>\n",
              "<table border=\"1\" class=\"dataframe\">\n",
              "  <thead>\n",
              "    <tr style=\"text-align: right;\">\n",
              "      <th></th>\n",
              "      <th>source</th>\n",
              "      <th>title</th>\n",
              "      <th>tokens</th>\n",
              "      <th>docID</th>\n",
              "    </tr>\n",
              "  </thead>\n",
              "  <tbody>\n",
              "    <tr>\n",
              "      <th>98529</th>\n",
              "      <td>thegatewaypundit</td>\n",
              "      <td>\"His Policies Were Incredibly Good for This Co...</td>\n",
              "      <td>after</td>\n",
              "      <td>0</td>\n",
              "    </tr>\n",
              "    <tr>\n",
              "      <th>98430</th>\n",
              "      <td>thegatewaypundit</td>\n",
              "      <td>\"His Policies Were Incredibly Good for This Co...</td>\n",
              "      <td>for</td>\n",
              "      <td>0</td>\n",
              "    </tr>\n",
              "    <tr>\n",
              "      <th>98431</th>\n",
              "      <td>thegatewaypundit</td>\n",
              "      <td>\"His Policies Were Incredibly Good for This Co...</td>\n",
              "      <td>this</td>\n",
              "      <td>0</td>\n",
              "    </tr>\n",
              "    <tr>\n",
              "      <th>98432</th>\n",
              "      <td>thegatewaypundit</td>\n",
              "      <td>\"His Policies Were Incredibly Good for This Co...</td>\n",
              "      <td>country</td>\n",
              "      <td>0</td>\n",
              "    </tr>\n",
              "    <tr>\n",
              "      <th>98433</th>\n",
              "      <td>thegatewaypundit</td>\n",
              "      <td>\"His Policies Were Incredibly Good for This Co...</td>\n",
              "      <td>and</td>\n",
              "      <td>0</td>\n",
              "    </tr>\n",
              "    <tr>\n",
              "      <th>...</th>\n",
              "      <td>...</td>\n",
              "      <td>...</td>\n",
              "      <td>...</td>\n",
              "      <td>...</td>\n",
              "    </tr>\n",
              "    <tr>\n",
              "      <th>429084</th>\n",
              "      <td>thehill</td>\n",
              "      <td>’48 Hours’ Erin Moriarty talks covering crime,...</td>\n",
              "      <td>some</td>\n",
              "      <td>713</td>\n",
              "    </tr>\n",
              "    <tr>\n",
              "      <th>429083</th>\n",
              "      <td>thehill</td>\n",
              "      <td>’48 Hours’ Erin Moriarty talks covering crime,...</td>\n",
              "      <td>\\n</td>\n",
              "      <td>713</td>\n",
              "    </tr>\n",
              "    <tr>\n",
              "      <th>429082</th>\n",
              "      <td>thehill</td>\n",
              "      <td>’48 Hours’ Erin Moriarty talks covering crime,...</td>\n",
              "      <td>piece</td>\n",
              "      <td>713</td>\n",
              "    </tr>\n",
              "    <tr>\n",
              "      <th>429088</th>\n",
              "      <td>thehill</td>\n",
              "      <td>’48 Hours’ Erin Moriarty talks covering crime,...</td>\n",
              "      <td>she</td>\n",
              "      <td>713</td>\n",
              "    </tr>\n",
              "    <tr>\n",
              "      <th>429508</th>\n",
              "      <td>thehill</td>\n",
              "      <td>’48 Hours’ Erin Moriarty talks covering crime,...</td>\n",
              "      <td>lot</td>\n",
              "      <td>713</td>\n",
              "    </tr>\n",
              "  </tbody>\n",
              "</table>\n",
              "<p>823400 rows × 4 columns</p>\n",
              "</div>\n",
              "      <button class=\"colab-df-convert\" onclick=\"convertToInteractive('df-a534518e-8a4e-4b4a-8782-eeda7da82e64')\"\n",
              "              title=\"Convert this dataframe to an interactive table.\"\n",
              "              style=\"display:none;\">\n",
              "        \n",
              "  <svg xmlns=\"http://www.w3.org/2000/svg\" height=\"24px\"viewBox=\"0 0 24 24\"\n",
              "       width=\"24px\">\n",
              "    <path d=\"M0 0h24v24H0V0z\" fill=\"none\"/>\n",
              "    <path d=\"M18.56 5.44l.94 2.06.94-2.06 2.06-.94-2.06-.94-.94-2.06-.94 2.06-2.06.94zm-11 1L8.5 8.5l.94-2.06 2.06-.94-2.06-.94L8.5 2.5l-.94 2.06-2.06.94zm10 10l.94 2.06.94-2.06 2.06-.94-2.06-.94-.94-2.06-.94 2.06-2.06.94z\"/><path d=\"M17.41 7.96l-1.37-1.37c-.4-.4-.92-.59-1.43-.59-.52 0-1.04.2-1.43.59L10.3 9.45l-7.72 7.72c-.78.78-.78 2.05 0 2.83L4 21.41c.39.39.9.59 1.41.59.51 0 1.02-.2 1.41-.59l7.78-7.78 2.81-2.81c.8-.78.8-2.07 0-2.86zM5.41 20L4 18.59l7.72-7.72 1.47 1.35L5.41 20z\"/>\n",
              "  </svg>\n",
              "      </button>\n",
              "      \n",
              "  <style>\n",
              "    .colab-df-container {\n",
              "      display:flex;\n",
              "      flex-wrap:wrap;\n",
              "      gap: 12px;\n",
              "    }\n",
              "\n",
              "    .colab-df-convert {\n",
              "      background-color: #E8F0FE;\n",
              "      border: none;\n",
              "      border-radius: 50%;\n",
              "      cursor: pointer;\n",
              "      display: none;\n",
              "      fill: #1967D2;\n",
              "      height: 32px;\n",
              "      padding: 0 0 0 0;\n",
              "      width: 32px;\n",
              "    }\n",
              "\n",
              "    .colab-df-convert:hover {\n",
              "      background-color: #E2EBFA;\n",
              "      box-shadow: 0px 1px 2px rgba(60, 64, 67, 0.3), 0px 1px 3px 1px rgba(60, 64, 67, 0.15);\n",
              "      fill: #174EA6;\n",
              "    }\n",
              "\n",
              "    [theme=dark] .colab-df-convert {\n",
              "      background-color: #3B4455;\n",
              "      fill: #D2E3FC;\n",
              "    }\n",
              "\n",
              "    [theme=dark] .colab-df-convert:hover {\n",
              "      background-color: #434B5C;\n",
              "      box-shadow: 0px 1px 3px 1px rgba(0, 0, 0, 0.15);\n",
              "      filter: drop-shadow(0px 1px 2px rgba(0, 0, 0, 0.3));\n",
              "      fill: #FFFFFF;\n",
              "    }\n",
              "  </style>\n",
              "\n",
              "      <script>\n",
              "        const buttonEl =\n",
              "          document.querySelector('#df-a534518e-8a4e-4b4a-8782-eeda7da82e64 button.colab-df-convert');\n",
              "        buttonEl.style.display =\n",
              "          google.colab.kernel.accessAllowed ? 'block' : 'none';\n",
              "\n",
              "        async function convertToInteractive(key) {\n",
              "          const element = document.querySelector('#df-a534518e-8a4e-4b4a-8782-eeda7da82e64');\n",
              "          const dataTable =\n",
              "            await google.colab.kernel.invokeFunction('convertToInteractive',\n",
              "                                                     [key], {});\n",
              "          if (!dataTable) return;\n",
              "\n",
              "          const docLinkHtml = 'Like what you see? Visit the ' +\n",
              "            '<a target=\"_blank\" href=https://colab.research.google.com/notebooks/data_table.ipynb>data table notebook</a>'\n",
              "            + ' to learn more about interactive tables.';\n",
              "          element.innerHTML = '';\n",
              "          dataTable['output_type'] = 'display_data';\n",
              "          await google.colab.output.renderOutput(dataTable, element);\n",
              "          const docLink = document.createElement('div');\n",
              "          docLink.innerHTML = docLinkHtml;\n",
              "          element.appendChild(docLink);\n",
              "        }\n",
              "      </script>\n",
              "    </div>\n",
              "  </div>\n",
              "  "
            ]
          },
          "metadata": {},
          "execution_count": 17
        }
      ]
    },
    {
      "cell_type": "code",
      "source": [
        "import seaborn as sns"
      ],
      "metadata": {
        "id": "AryP3sgTdfoI"
      },
      "execution_count": 18,
      "outputs": []
    },
    {
      "cell_type": "code",
      "source": [
        "## Plot the distribution of the number of tokens per document\n",
        "df['tokens_len'] = [len(x) for x in df['tokens']]"
      ],
      "metadata": {
        "colab": {
          "base_uri": "https://localhost:8080/"
        },
        "id": "ryNVhL5vdnGn",
        "outputId": "6c448955-7100-41f0-f192-296aa5cd4168"
      },
      "execution_count": 75,
      "outputs": [
        {
          "output_type": "stream",
          "name": "stderr",
          "text": [
            "<ipython-input-75-eca6a8b8d46a>:2: SettingWithCopyWarning: \n",
            "A value is trying to be set on a copy of a slice from a DataFrame.\n",
            "Try using .loc[row_indexer,col_indexer] = value instead\n",
            "\n",
            "See the caveats in the documentation: https://pandas.pydata.org/pandas-docs/stable/user_guide/indexing.html#returning-a-view-versus-a-copy\n",
            "  df['tokens_len'] = [len(x) for x in df['tokens']]\n"
          ]
        }
      ]
    },
    {
      "cell_type": "code",
      "execution_count": 82,
      "metadata": {
        "id": "hVYXUDA3F7cP",
        "colab": {
          "base_uri": "https://localhost:8080/",
          "height": 528
        },
        "outputId": "d0076274-ce69-4cee-bd44-8e650598bfe8"
      },
      "outputs": [
        {
          "output_type": "display_data",
          "data": {
            "text/plain": [
              "<Figure size 1008x504 with 1 Axes>"
            ],
            "image/png": "[encoded data removed]"
          },
          "metadata": {
            "needs_background": "light"
          }
        }
      ],
      "source": [
        "fig = sns.displot(data=df, x='tokens_len', height=7, aspect=2, color='#00B0BA', edgecolor='k', linewidth=0.4\n",
        "                  ).set(title='Distribution of documents by number of tokens')\n",
        "fig.set_xlabels('Number of tokens')\n",
        "plt.show()"
      ]
    },
    {
      "cell_type": "code",
      "execution_count": 79,
      "metadata": {
        "id": "79nDOb9-F7cP",
        "colab": {
          "base_uri": "https://localhost:8080/"
        },
        "outputId": "7ddceac3-8eb8-4845-81db-4830e21db177"
      },
      "outputs": [
        {
          "output_type": "execute_result",
          "data": {
            "text/plain": [
              "count    1185.000000\n",
              "mean      793.032911\n",
              "std       661.112783\n",
              "min        16.000000\n",
              "25%       397.000000\n",
              "50%       676.000000\n",
              "75%      1031.000000\n",
              "max      9533.000000\n",
              "Name: tokens_len, dtype: float64"
            ]
          },
          "metadata": {},
          "execution_count": 79
        }
      ],
      "source": [
        "## 1a. What is the longest article?\n",
        "df['tokens_len'].describe()\n",
        "\n",
        "# the longest article has 9533 tokens"
      ]
    },
    {
      "cell_type": "code",
      "execution_count": 83,
      "metadata": {
        "id": "OB1Lx_LLF7cP",
        "colab": {
          "base_uri": "https://localhost:8080/"
        },
        "outputId": "3367ef4f-1833-4f2b-9c49-513fecff3046"
      },
      "outputs": [
        {
          "output_type": "execute_result",
          "data": {
            "text/plain": [
              "count    1185.000000\n",
              "mean      793.032911\n",
              "std       661.112783\n",
              "min        16.000000\n",
              "25%       397.000000\n",
              "50%       676.000000\n",
              "75%      1031.000000\n",
              "max      9533.000000\n",
              "Name: tokens_len, dtype: float64"
            ]
          },
          "metadata": {},
          "execution_count": 83
        }
      ],
      "source": [
        "## 1b. What is the shortest article?\n",
        "df['tokens_len'].describe()\n",
        "\n",
        "# the shortest article has 16 tokens"
      ]
    },
    {
      "cell_type": "code",
      "execution_count": 81,
      "metadata": {
        "id": "3v-6KLi4F7cP",
        "colab": {
          "base_uri": "https://localhost:8080/"
        },
        "outputId": "6a829b86-2577-44db-8a29-b90955bd391a"
      },
      "outputs": [
        {
          "output_type": "execute_result",
          "data": {
            "text/plain": [
              "1979.8"
            ]
          },
          "metadata": {},
          "execution_count": 81
        }
      ],
      "source": [
        "## 1c. What is the 95th percentile of the number of tokens per document?\n",
        "## Hint: use np.percentile\n",
        "\n",
        "np.percentile(df['tokens_len'],95)"
      ]
    },
    {
      "cell_type": "code",
      "execution_count": 93,
      "metadata": {
        "id": "DJlKYM0hF7cQ",
        "colab": {
          "base_uri": "https://localhost:8080/"
        },
        "outputId": "db717ced-0a68-47a5-80dd-7e905be43227"
      },
      "outputs": [
        {
          "output_type": "execute_result",
          "data": {
            "text/plain": [
              "17355"
            ]
          },
          "metadata": {},
          "execution_count": 93
        }
      ],
      "source": [
        "## 1d. What is the size of the vocabulary and the frequencies of each token in the corpus?\n",
        "\n",
        "import string\n",
        "from collections import Counter\n",
        "\n",
        "## Create list of stopwords from spacy\n",
        "stop_words = list(spacy.lang.en.stop_words.STOP_WORDS) + list(string.punctuation)\n",
        "\n",
        "# create a word frequency dataframe\n",
        "term_frequency = (corpus_tokens\n",
        "                  #sort data by document ID and tokens\n",
        "                  .groupby(by=['docID', 'tokens'])\n",
        "                  #count by aggregating tokens together\n",
        "                  .agg({'tokens': 'count'})\n",
        "                  .rename(columns={'tokens': 'term_frequency'})\n",
        "                  #groupby creates new indices, so reset\n",
        "                  .reset_index()\n",
        "                  .rename(columns={'tokens': 'term'})\n",
        "                 )\n",
        "\n",
        "term_frequency = term_frequency.drop(term_frequency[term_frequency['term'].isin(stop_words)].index)\n",
        "\n",
        "# compute frequencies of each token in the corpus\n",
        "counter = Counter(term_frequency['term'])\n",
        "#print(counter)\n",
        "\n",
        "#size of the vocabulary\n",
        "len(counter)"
      ]
    },
    {
      "cell_type": "markdown",
      "metadata": {
        "id": "XtLeWfafF7cQ"
      },
      "source": [
        "## 2.0 How many different sources are there in the corpus?\n",
        "\n",
        "Please describe how many different sources exist in the dataset."
      ]
    },
    {
      "cell_type": "code",
      "execution_count": null,
      "metadata": {
        "id": "e-paHMUZF7cQ"
      },
      "outputs": [],
      "source": [
        "## 2a. Plot how many different sources are there in the corpus?"
      ]
    },
    {
      "cell_type": "code",
      "source": [
        "# retrieve unique sources in the corpus\n",
        "data = pd.DataFrame(df['source'].value_counts()).reset_index()\n",
        "data.columns=['source','count']\n",
        "data.head(3)"
      ],
      "metadata": {
        "colab": {
          "base_uri": "https://localhost:8080/",
          "height": 143
        },
        "id": "zqtAhifwpD5P",
        "outputId": "6a9b070a-a4f4-4874-d14d-381769f1098a"
      },
      "execution_count": 122,
      "outputs": [
        {
          "output_type": "execute_result",
          "data": {
            "text/plain": [
              "           source  count\n",
              "0         thehill    218\n",
              "1  westernjournal    212\n",
              "2         foxnews    106"
            ],
            "text/html": [
              "\n",
              "  <div id=\"df-896ac213-8934-41c6-87ef-fb980a5cad55\">\n",
              "    <div class=\"colab-df-container\">\n",
              "      <div>\n",
              "<style scoped>\n",
              "    .dataframe tbody tr th:only-of-type {\n",
              "        vertical-align: middle;\n",
              "    }\n",
              "\n",
              "    .dataframe tbody tr th {\n",
              "        vertical-align: top;\n",
              "    }\n",
              "\n",
              "    .dataframe thead th {\n",
              "        text-align: right;\n",
              "    }\n",
              "</style>\n",
              "<table border=\"1\" class=\"dataframe\">\n",
              "  <thead>\n",
              "    <tr style=\"text-align: right;\">\n",
              "      <th></th>\n",
              "      <th>source</th>\n",
              "      <th>count</th>\n",
              "    </tr>\n",
              "  </thead>\n",
              "  <tbody>\n",
              "    <tr>\n",
              "      <th>0</th>\n",
              "      <td>thehill</td>\n",
              "      <td>218</td>\n",
              "    </tr>\n",
              "    <tr>\n",
              "      <th>1</th>\n",
              "      <td>westernjournal</td>\n",
              "      <td>212</td>\n",
              "    </tr>\n",
              "    <tr>\n",
              "      <th>2</th>\n",
              "      <td>foxnews</td>\n",
              "      <td>106</td>\n",
              "    </tr>\n",
              "  </tbody>\n",
              "</table>\n",
              "</div>\n",
              "      <button class=\"colab-df-convert\" onclick=\"convertToInteractive('df-896ac213-8934-41c6-87ef-fb980a5cad55')\"\n",
              "              title=\"Convert this dataframe to an interactive table.\"\n",
              "              style=\"display:none;\">\n",
              "        \n",
              "  <svg xmlns=\"http://www.w3.org/2000/svg\" height=\"24px\"viewBox=\"0 0 24 24\"\n",
              "       width=\"24px\">\n",
              "    <path d=\"M0 0h24v24H0V0z\" fill=\"none\"/>\n",
              "    <path d=\"M18.56 5.44l.94 2.06.94-2.06 2.06-.94-2.06-.94-.94-2.06-.94 2.06-2.06.94zm-11 1L8.5 8.5l.94-2.06 2.06-.94-2.06-.94L8.5 2.5l-.94 2.06-2.06.94zm10 10l.94 2.06.94-2.06 2.06-.94-2.06-.94-.94-2.06-.94 2.06-2.06.94z\"/><path d=\"M17.41 7.96l-1.37-1.37c-.4-.4-.92-.59-1.43-.59-.52 0-1.04.2-1.43.59L10.3 9.45l-7.72 7.72c-.78.78-.78 2.05 0 2.83L4 21.41c.39.39.9.59 1.41.59.51 0 1.02-.2 1.41-.59l7.78-7.78 2.81-2.81c.8-.78.8-2.07 0-2.86zM5.41 20L4 18.59l7.72-7.72 1.47 1.35L5.41 20z\"/>\n",
              "  </svg>\n",
              "      </button>\n",
              "      \n",
              "  <style>\n",
              "    .colab-df-container {\n",
              "      display:flex;\n",
              "      flex-wrap:wrap;\n",
              "      gap: 12px;\n",
              "    }\n",
              "\n",
              "    .colab-df-convert {\n",
              "      background-color: #E8F0FE;\n",
              "      border: none;\n",
              "      border-radius: 50%;\n",
              "      cursor: pointer;\n",
              "      display: none;\n",
              "      fill: #1967D2;\n",
              "      height: 32px;\n",
              "      padding: 0 0 0 0;\n",
              "      width: 32px;\n",
              "    }\n",
              "\n",
              "    .colab-df-convert:hover {\n",
              "      background-color: #E2EBFA;\n",
              "      box-shadow: 0px 1px 2px rgba(60, 64, 67, 0.3), 0px 1px 3px 1px rgba(60, 64, 67, 0.15);\n",
              "      fill: #174EA6;\n",
              "    }\n",
              "\n",
              "    [theme=dark] .colab-df-convert {\n",
              "      background-color: #3B4455;\n",
              "      fill: #D2E3FC;\n",
              "    }\n",
              "\n",
              "    [theme=dark] .colab-df-convert:hover {\n",
              "      background-color: #434B5C;\n",
              "      box-shadow: 0px 1px 3px 1px rgba(0, 0, 0, 0.15);\n",
              "      filter: drop-shadow(0px 1px 2px rgba(0, 0, 0, 0.3));\n",
              "      fill: #FFFFFF;\n",
              "    }\n",
              "  </style>\n",
              "\n",
              "      <script>\n",
              "        const buttonEl =\n",
              "          document.querySelector('#df-896ac213-8934-41c6-87ef-fb980a5cad55 button.colab-df-convert');\n",
              "        buttonEl.style.display =\n",
              "          google.colab.kernel.accessAllowed ? 'block' : 'none';\n",
              "\n",
              "        async function convertToInteractive(key) {\n",
              "          const element = document.querySelector('#df-896ac213-8934-41c6-87ef-fb980a5cad55');\n",
              "          const dataTable =\n",
              "            await google.colab.kernel.invokeFunction('convertToInteractive',\n",
              "                                                     [key], {});\n",
              "          if (!dataTable) return;\n",
              "\n",
              "          const docLinkHtml = 'Like what you see? Visit the ' +\n",
              "            '<a target=\"_blank\" href=https://colab.research.google.com/notebooks/data_table.ipynb>data table notebook</a>'\n",
              "            + ' to learn more about interactive tables.';\n",
              "          element.innerHTML = '';\n",
              "          dataTable['output_type'] = 'display_data';\n",
              "          await google.colab.output.renderOutput(dataTable, element);\n",
              "          const docLink = document.createElement('div');\n",
              "          docLink.innerHTML = docLinkHtml;\n",
              "          element.appendChild(docLink);\n",
              "        }\n",
              "      </script>\n",
              "    </div>\n",
              "  </div>\n",
              "  "
            ]
          },
          "metadata": {},
          "execution_count": 122
        }
      ]
    },
    {
      "cell_type": "code",
      "source": [
        "fig = sns.barplot(data=data, x=\"count\",y=\"source\", palette=\"ch:.25\")\n",
        "plt.rcParams['figure.figsize']=(8,5)\n",
        "plt.title('Number of Articles by Source')"
      ],
      "metadata": {
        "colab": {
          "base_uri": "https://localhost:8080/",
          "height": 421
        },
        "id": "50bUoMbcq8zs",
        "outputId": "f9cac4e3-b33d-470a-ae2d-a4413b51f5e7"
      },
      "execution_count": 201,
      "outputs": [
        {
          "output_type": "execute_result",
          "data": {
            "text/plain": [
              "Text(0.5, 1.0, 'Number of Articles by Source')"
            ]
          },
          "metadata": {},
          "execution_count": 201
        },
        {
          "output_type": "display_data",
          "data": {
            "text/plain": [
              "<Figure size 576x432 with 1 Axes>"
            ],
            "image/png": "[encoded data removed]"
          },
          "metadata": {
            "needs_background": "light"
          }
        }
      ]
    },
    {
      "cell_type": "code",
      "execution_count": 198,
      "metadata": {
        "id": "oLvcL-6_F7cQ",
        "colab": {
          "base_uri": "https://localhost:8080/",
          "height": 542
        },
        "outputId": "8354c93a-adff-4fe7-9a37-48b0c2196265"
      },
      "outputs": [
        {
          "output_type": "display_data",
          "data": {
            "text/plain": [
              "<Figure size 806.4x504 with 1 Axes>"
            ],
            "image/png": "[encoded data removed]"
          },
          "metadata": {
            "needs_background": "light"
          }
        }
      ],
      "source": [
        "## 2b. Plot the distribution of articles per source?\n",
        "## hint: use seaborn boxplot\n",
        "txt = '**Excludes an outlier at 9533 for the New York Times'\n",
        "fig = sns.catplot(data=df, x=\"tokens_len\", y=\"source\", kind=\"box\", linewidth=0.8,\n",
        "                  height=7, aspect=1.6)\n",
        "#plt.xlim(-200,6000)\n",
        "plt.title('Distribution of Article Length by Source')\n",
        "plt.xlabel('Number of tokens')\n",
        "plt.ylabel('Source')\n",
        "plt.figtext(0.17, 0.00009, txt, wrap=True, horizontalalignment='left', fontsize=8)\n",
        "plt.rcParams['figure.figsize']=(15,11)"
      ]
    },
    {
      "cell_type": "code",
      "source": [],
      "metadata": {
        "id": "IW-WIKkltBZd"
      },
      "execution_count": null,
      "outputs": []
    }
  ],
  "metadata": {
    "kernelspec": {
      "display_name": "venv",
      "language": "python",
      "name": "python3"
    },
    "language_info": {
      "codemirror_mode": {
        "name": "ipython",
        "version": 3
      },
      "file_extension": ".py",
      "mimetype": "text/x-python",
      "name": "python",
      "nbconvert_exporter": "python",
      "pygments_lexer": "ipython3",
      "version": "3.10.6"
    },
    "orig_nbformat": 4,
    "vscode": {
      "interpreter": {
        "hash": "7d99a3f87c484a74ba405ca572f7f1b4059e93a8c4d7f8027bf5ae12e7919d9c"
      }
    },
    "colab": {
      "provenance": [],
      "include_colab_link": true
    },
    "widgets": {
      "application/vnd.jupyter.widget-state+json": {
        "c94938aac40041ef99c9035249cfc989": {
          "model_module": "@jupyter-widgets/controls",
          "model_name": "HBoxModel",
          "model_module_version": "1.5.0",
          "state": {
            "_dom_classes": [],
            "_model_module": "@jupyter-widgets/controls",
            "_model_module_version": "1.5.0",
            "_model_name": "HBoxModel",
            "_view_count": null,
            "_view_module": "@jupyter-widgets/controls",
            "_view_module_version": "1.5.0",
            "_view_name": "HBoxView",
            "box_style": "",
            "children": [
              "IPY_MODEL_1611841f78aa4389bd2d355016f816ca",
              "IPY_MODEL_457dc427fdc143bd9604c2230d30c919",
              "IPY_MODEL_8672a97273064e7ab84d861aa053befd"
            ],
            "layout": "IPY_MODEL_284e9e3e6853457ca9bb78b5e4c7d22c"
          }
        },
        "1611841f78aa4389bd2d355016f816ca": {
          "model_module": "@jupyter-widgets/controls",
          "model_name": "HTMLModel",
          "model_module_version": "1.5.0",
          "state": {
            "_dom_classes": [],
            "_model_module": "@jupyter-widgets/controls",
            "_model_module_version": "1.5.0",
            "_model_name": "HTMLModel",
            "_view_count": null,
            "_view_module": "@jupyter-widgets/controls",
            "_view_module_version": "1.5.0",
            "_view_name": "HTMLView",
            "description": "",
            "description_tooltip": null,
            "layout": "IPY_MODEL_aba7bbb4005240efa945faf9c32a9023",
            "placeholder": "​",
            "style": "IPY_MODEL_bb8c1fc9aee349b5a64dcff8ca6bf4ec",
            "value": "100%"
          }
        },
        "457dc427fdc143bd9604c2230d30c919": {
          "model_module": "@jupyter-widgets/controls",
          "model_name": "FloatProgressModel",
          "model_module_version": "1.5.0",
          "state": {
            "_dom_classes": [],
            "_model_module": "@jupyter-widgets/controls",
            "_model_module_version": "1.5.0",
            "_model_name": "FloatProgressModel",
            "_view_count": null,
            "_view_module": "@jupyter-widgets/controls",
            "_view_module_version": "1.5.0",
            "_view_name": "ProgressView",
            "bar_style": "success",
            "description": "",
            "description_tooltip": null,
            "layout": "IPY_MODEL_25306c8742de43769023678706eab49a",
            "max": 1185,
            "min": 0,
            "orientation": "horizontal",
            "style": "IPY_MODEL_ad0ed3eb6c424b9ba8ca75a49db61360",
            "value": 1185
          }
        },
        "8672a97273064e7ab84d861aa053befd": {
          "model_module": "@jupyter-widgets/controls",
          "model_name": "HTMLModel",
          "model_module_version": "1.5.0",
          "state": {
            "_dom_classes": [],
            "_model_module": "@jupyter-widgets/controls",
            "_model_module_version": "1.5.0",
            "_model_name": "HTMLModel",
            "_view_count": null,
            "_view_module": "@jupyter-widgets/controls",
            "_view_module_version": "1.5.0",
            "_view_name": "HTMLView",
            "description": "",
            "description_tooltip": null,
            "layout": "IPY_MODEL_5f5a1b9c12c24fb08e01ab08fb97e112",
            "placeholder": "​",
            "style": "IPY_MODEL_7784f834fb2c4af086c36eca9c06c7d8",
            "value": " 1185/1185 [03:02&lt;00:00,  7.42it/s]"
          }
        },
        "284e9e3e6853457ca9bb78b5e4c7d22c": {
          "model_module": "@jupyter-widgets/base",
          "model_name": "LayoutModel",
          "model_module_version": "1.2.0",
          "state": {
            "_model_module": "@jupyter-widgets/base",
            "_model_module_version": "1.2.0",
            "_model_name": "LayoutModel",
            "_view_count": null,
            "_view_module": "@jupyter-widgets/base",
            "_view_module_version": "1.2.0",
            "_view_name": "LayoutView",
            "align_content": null,
            "align_items": null,
            "align_self": null,
            "border": null,
            "bottom": null,
            "display": null,
            "flex": null,
            "flex_flow": null,
            "grid_area": null,
            "grid_auto_columns": null,
            "grid_auto_flow": null,
            "grid_auto_rows": null,
            "grid_column": null,
            "grid_gap": null,
            "grid_row": null,
            "grid_template_areas": null,
            "grid_template_columns": null,
            "grid_template_rows": null,
            "height": null,
            "justify_content": null,
            "justify_items": null,
            "left": null,
            "margin": null,
            "max_height": null,
            "max_width": null,
            "min_height": null,
            "min_width": null,
            "object_fit": null,
            "object_position": null,
            "order": null,
            "overflow": null,
            "overflow_x": null,
            "overflow_y": null,
            "padding": null,
            "right": null,
            "top": null,
            "visibility": null,
            "width": null
          }
        },
        "aba7bbb4005240efa945faf9c32a9023": {
          "model_module": "@jupyter-widgets/base",
          "model_name": "LayoutModel",
          "model_module_version": "1.2.0",
          "state": {
            "_model_module": "@jupyter-widgets/base",
            "_model_module_version": "1.2.0",
            "_model_name": "LayoutModel",
            "_view_count": null,
            "_view_module": "@jupyter-widgets/base",
            "_view_module_version": "1.2.0",
            "_view_name": "LayoutView",
            "align_content": null,
            "align_items": null,
            "align_self": null,
            "border": null,
            "bottom": null,
            "display": null,
            "flex": null,
            "flex_flow": null,
            "grid_area": null,
            "grid_auto_columns": null,
            "grid_auto_flow": null,
            "grid_auto_rows": null,
            "grid_column": null,
            "grid_gap": null,
            "grid_row": null,
            "grid_template_areas": null,
            "grid_template_columns": null,
            "grid_template_rows": null,
            "height": null,
            "justify_content": null,
            "justify_items": null,
            "left": null,
            "margin": null,
            "max_height": null,
            "max_width": null,
            "min_height": null,
            "min_width": null,
            "object_fit": null,
            "object_position": null,
            "order": null,
            "overflow": null,
            "overflow_x": null,
            "overflow_y": null,
            "padding": null,
            "right": null,
            "top": null,
            "visibility": null,
            "width": null
          }
        },
        "bb8c1fc9aee349b5a64dcff8ca6bf4ec": {
          "model_module": "@jupyter-widgets/controls",
          "model_name": "DescriptionStyleModel",
          "model_module_version": "1.5.0",
          "state": {
            "_model_module": "@jupyter-widgets/controls",
            "_model_module_version": "1.5.0",
            "_model_name": "DescriptionStyleModel",
            "_view_count": null,
            "_view_module": "@jupyter-widgets/base",
            "_view_module_version": "1.2.0",
            "_view_name": "StyleView",
            "description_width": ""
          }
        },
        "25306c8742de43769023678706eab49a": {
          "model_module": "@jupyter-widgets/base",
          "model_name": "LayoutModel",
          "model_module_version": "1.2.0",
          "state": {
            "_model_module": "@jupyter-widgets/base",
            "_model_module_version": "1.2.0",
            "_model_name": "LayoutModel",
            "_view_count": null,
            "_view_module": "@jupyter-widgets/base",
            "_view_module_version": "1.2.0",
            "_view_name": "LayoutView",
            "align_content": null,
            "align_items": null,
            "align_self": null,
            "border": null,
            "bottom": null,
            "display": null,
            "flex": null,
            "flex_flow": null,
            "grid_area": null,
            "grid_auto_columns": null,
            "grid_auto_flow": null,
            "grid_auto_rows": null,
            "grid_column": null,
            "grid_gap": null,
            "grid_row": null,
            "grid_template_areas": null,
            "grid_template_columns": null,
            "grid_template_rows": null,
            "height": null,
            "justify_content": null,
            "justify_items": null,
            "left": null,
            "margin": null,
            "max_height": null,
            "max_width": null,
            "min_height": null,
            "min_width": null,
            "object_fit": null,
            "object_position": null,
            "order": null,
            "overflow": null,
            "overflow_x": null,
            "overflow_y": null,
            "padding": null,
            "right": null,
            "top": null,
            "visibility": null,
            "width": null
          }
        },
        "ad0ed3eb6c424b9ba8ca75a49db61360": {
          "model_module": "@jupyter-widgets/controls",
          "model_name": "ProgressStyleModel",
          "model_module_version": "1.5.0",
          "state": {
            "_model_module": "@jupyter-widgets/controls",
            "_model_module_version": "1.5.0",
            "_model_name": "ProgressStyleModel",
            "_view_count": null,
            "_view_module": "@jupyter-widgets/base",
            "_view_module_version": "1.2.0",
            "_view_name": "StyleView",
            "bar_color": null,
            "description_width": ""
          }
        },
        "5f5a1b9c12c24fb08e01ab08fb97e112": {
          "model_module": "@jupyter-widgets/base",
          "model_name": "LayoutModel",
          "model_module_version": "1.2.0",
          "state": {
            "_model_module": "@jupyter-widgets/base",
            "_model_module_version": "1.2.0",
            "_model_name": "LayoutModel",
            "_view_count": null,
            "_view_module": "@jupyter-widgets/base",
            "_view_module_version": "1.2.0",
            "_view_name": "LayoutView",
            "align_content": null,
            "align_items": null,
            "align_self": null,
            "border": null,
            "bottom": null,
            "display": null,
            "flex": null,
            "flex_flow": null,
            "grid_area": null,
            "grid_auto_columns": null,
            "grid_auto_flow": null,
            "grid_auto_rows": null,
            "grid_column": null,
            "grid_gap": null,
            "grid_row": null,
            "grid_template_areas": null,
            "grid_template_columns": null,
            "grid_template_rows": null,
            "height": null,
            "justify_content": null,
            "justify_items": null,
            "left": null,
            "margin": null,
            "max_height": null,
            "max_width": null,
            "min_height": null,
            "min_width": null,
            "object_fit": null,
            "object_position": null,
            "order": null,
            "overflow": null,
            "overflow_x": null,
            "overflow_y": null,
            "padding": null,
            "right": null,
            "top": null,
            "visibility": null,
            "width": null
          }
        },
        "7784f834fb2c4af086c36eca9c06c7d8": {
          "model_module": "@jupyter-widgets/controls",
          "model_name": "DescriptionStyleModel",
          "model_module_version": "1.5.0",
          "state": {
            "_model_module": "@jupyter-widgets/controls",
            "_model_module_version": "1.5.0",
            "_model_name": "DescriptionStyleModel",
            "_view_count": null,
            "_view_module": "@jupyter-widgets/base",
            "_view_module_version": "1.2.0",
            "_view_name": "StyleView",
            "description_width": ""
          }
        }
      }
    }
  },
  "nbformat": 4,
  "nbformat_minor": 0
}